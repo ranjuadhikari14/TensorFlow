{
  "nbformat": 4,
  "nbformat_minor": 0,
  "metadata": {
    "colab": {
      "provenance": [],
      "include_colab_link": true
    },
    "kernelspec": {
      "name": "python3",
      "display_name": "Python 3"
    },
    "language_info": {
      "name": "python"
    }
  },
  "cells": [
    {
      "cell_type": "markdown",
      "metadata": {
        "id": "view-in-github",
        "colab_type": "text"
      },
      "source": [
        "<a href=\"https://colab.research.google.com/github/ranjuadhikari14/TensorFlow/blob/main/Untitled4.ipynb\" target=\"_parent\"><img src=\"https://colab.research.google.com/assets/colab-badge.svg\" alt=\"Open In Colab\"/></a>"
      ]
    },
    {
      "cell_type": "code",
      "execution_count": null,
      "metadata": {
        "id": "q7elB65xc56I",
        "colab": {
          "base_uri": "https://localhost:8080/"
        },
        "outputId": "4b7ec6db-7587-461c-d84c-57b5bf2789ce"
      },
      "outputs": [
        {
          "output_type": "stream",
          "name": "stdout",
          "text": [
            "Downloading data from https://storage.googleapis.com/tensorflow/tf-keras-datasets/mnist.npz\n",
            "\u001b[1m11490434/11490434\u001b[0m \u001b[32m━━━━━━━━━━━━━━━━━━━━\u001b[0m\u001b[37m\u001b[0m \u001b[1m0s\u001b[0m 0us/step\n"
          ]
        }
      ],
      "source": [
        "import tensorflow as tf\n",
        "mnist = tf.keras.datasets.mnist #28 *28 images of hand-written digits 0.9\n",
        "(x_train,y_train),(x_test, y_test) =mnist.load_data()"
      ]
    },
    {
      "cell_type": "code",
      "source": [
        "x_train =tf.keras.utils.normalize(x_train,axis=1)\n",
        "x_test =tf.keras.utils.normalize(x_test,axis=1)\n"
      ],
      "metadata": {
        "id": "TetxQM1KljHH"
      },
      "execution_count": null,
      "outputs": []
    },
    {
      "cell_type": "markdown",
      "source": [
        "Building model\n"
      ],
      "metadata": {
        "id": "N1nTeZBsmMi8"
      }
    },
    {
      "cell_type": "code",
      "source": [
        "model = tf.keras.models.Sequential()\n",
        "model.add(tf.keras.layers.Flatten())"
      ],
      "metadata": {
        "id": "HahgiVApmL-2"
      },
      "execution_count": null,
      "outputs": []
    },
    {
      "cell_type": "markdown",
      "source": [
        "Hidden Layers"
      ],
      "metadata": {
        "id": "gOKElu07nmSU"
      }
    },
    {
      "cell_type": "code",
      "source": [
        "model.add(tf.keras.layers.Dense(128,activation=tf.nn.relu))\n",
        "model.add(tf.keras.layers.Dense(128,activation =tf.nn.relu))"
      ],
      "metadata": {
        "id": "KPKwBSTinkX2"
      },
      "execution_count": null,
      "outputs": []
    },
    {
      "cell_type": "markdown",
      "source": [
        "Output Layers"
      ],
      "metadata": {
        "id": "2yAafvqOmlmN"
      }
    },
    {
      "cell_type": "code",
      "source": [
        "model.add(tf.keras.layers.Dense(10,activation='softmax'))"
      ],
      "metadata": {
        "id": "0eL86yajntmW"
      },
      "execution_count": null,
      "outputs": []
    },
    {
      "cell_type": "markdown",
      "source": [
        "Parametrs for training"
      ],
      "metadata": {
        "id": "r2exhHlwoPeq"
      }
    },
    {
      "cell_type": "code",
      "source": [
        "model.compile(optimizer= 'adam' ,\n",
        "              loss= 'sparse_categorical_crossentropy',\n",
        "              metrics =['accuracy'])\n",
        "model.fit(x_train,y_train,epochs=3)"
      ],
      "metadata": {
        "colab": {
          "base_uri": "https://localhost:8080/"
        },
        "id": "zqUEw5IGoPDt",
        "outputId": "c537daab-59bf-4293-9ef8-95cd4c6c7119"
      },
      "execution_count": null,
      "outputs": [
        {
          "output_type": "stream",
          "name": "stdout",
          "text": [
            "Epoch 1/3\n",
            "\u001b[1m1875/1875\u001b[0m \u001b[32m━━━━━━━━━━━━━━━━━━━━\u001b[0m\u001b[37m\u001b[0m \u001b[1m10s\u001b[0m 4ms/step - accuracy: 0.8664 - loss: 0.4657\n",
            "Epoch 2/3\n",
            "\u001b[1m1875/1875\u001b[0m \u001b[32m━━━━━━━━━━━━━━━━━━━━\u001b[0m\u001b[37m\u001b[0m \u001b[1m7s\u001b[0m 4ms/step - accuracy: 0.9681 - loss: 0.1039\n",
            "Epoch 3/3\n",
            "\u001b[1m1875/1875\u001b[0m \u001b[32m━━━━━━━━━━━━━━━━━━━━\u001b[0m\u001b[37m\u001b[0m \u001b[1m8s\u001b[0m 4ms/step - accuracy: 0.9786 - loss: 0.0693\n"
          ]
        },
        {
          "output_type": "execute_result",
          "data": {
            "text/plain": [
              "<keras.src.callbacks.history.History at 0x7cb7b3581990>"
            ]
          },
          "metadata": {},
          "execution_count": 6
        }
      ]
    },
    {
      "cell_type": "code",
      "source": [
        "val_loss ,val_accuracy = model.evaluate(x_test,y_test)\n",
        "print(val_loss,val_accuracy)"
      ],
      "metadata": {
        "colab": {
          "base_uri": "https://localhost:8080/"
        },
        "id": "1pZmz9YspeXd",
        "outputId": "6653b553-0044-43a7-e1ba-4401bcbe2365"
      },
      "execution_count": null,
      "outputs": [
        {
          "output_type": "stream",
          "name": "stdout",
          "text": [
            "\u001b[1m313/313\u001b[0m \u001b[32m━━━━━━━━━━━━━━━━━━━━\u001b[0m\u001b[37m\u001b[0m \u001b[1m1s\u001b[0m 2ms/step - accuracy: 0.9644 - loss: 0.1173\n",
            "0.10141605883836746 0.9693999886512756\n"
          ]
        }
      ]
    },
    {
      "cell_type": "code",
      "source": [
        "import matplotlib.pyplot as plt\n",
        "\n",
        "\n",
        "plt.imshow(x_train[0],cmap = plt.cm.binary)\n",
        "plt.show()\n",
        "\n",
        "# print(x_train[0])\n"
      ],
      "metadata": {
        "colab": {
          "base_uri": "https://localhost:8080/",
          "height": 430
        },
        "id": "RiEeC3H0j0zW",
        "outputId": "9259384b-7ea4-461a-81ca-3a4c40cbc345"
      },
      "execution_count": null,
      "outputs": [
        {
          "output_type": "display_data",
          "data": {
            "text/plain": [
              "<Figure size 640x480 with 1 Axes>"
            ],
            "image/png": "[encoded data removed]"
          },
          "metadata": {}
        }
      ]
    },
    {
      "cell_type": "markdown",
      "source": [
        "Load a model aand save it\n",
        "\n",
        "```\n",
        "\n",
        "```\n",
        "\n"
      ],
      "metadata": {
        "id": "kgjqowbHqU3L"
      }
    },
    {
      "cell_type": "code",
      "source": [
        "model.save('epic_num_reader.keras')"
      ],
      "metadata": {
        "id": "1XRruW6smlJu"
      },
      "execution_count": null,
      "outputs": []
    },
    {
      "cell_type": "markdown",
      "source": [
        "Reload the model\n"
      ],
      "metadata": {
        "id": "w_GV44JjrgSa"
      }
    },
    {
      "cell_type": "code",
      "source": [
        "new_model = tf.keras.models.load_model('/content/epic_num_reader.keras')"
      ],
      "metadata": {
        "id": "BAxhtt2UlCPT"
      },
      "execution_count": null,
      "outputs": []
    },
    {
      "cell_type": "markdown",
      "source": [],
      "metadata": {
        "id": "N0ZPb20erY7m"
      }
    },
    {
      "cell_type": "code",
      "source": [
        "new_model=tf.keras.models.load_model('/content/epic_num_reader.keras')"
      ],
      "metadata": {
        "id": "DCWIDRD6vNha"
      },
      "execution_count": null,
      "outputs": []
    },
    {
      "cell_type": "code",
      "source": [
        "prediction = new_model.predict([x_test])"
      ],
      "metadata": {
        "colab": {
          "base_uri": "https://localhost:8080/"
        },
        "id": "BycILLxRu-rb",
        "outputId": "4ef7932c-7c0d-476b-d432-20c2194ec2f8"
      },
      "execution_count": null,
      "outputs": [
        {
          "output_type": "stream",
          "name": "stdout",
          "text": [
            "\u001b[1m 78/313\u001b[0m \u001b[32m━━━━\u001b[0m\u001b[37m━━━━━━━━━━━━━━━━\u001b[0m \u001b[1m0s\u001b[0m 2ms/step"
          ]
        },
        {
          "output_type": "stream",
          "name": "stderr",
          "text": [
            "/usr/local/lib/python3.11/dist-packages/keras/src/models/functional.py:237: UserWarning: The structure of `inputs` doesn't match the expected structure.\n",
            "Expected: input_layer\n",
            "Received: inputs=('Tensor(shape=(32, 28, 28))',)\n",
            "  warnings.warn(msg)\n"
          ]
        },
        {
          "output_type": "stream",
          "name": "stdout",
          "text": [
            "\u001b[1m313/313\u001b[0m \u001b[32m━━━━━━━━━━━━━━━━━━━━\u001b[0m\u001b[37m\u001b[0m \u001b[1m1s\u001b[0m 2ms/step\n"
          ]
        },
        {
          "output_type": "stream",
          "name": "stderr",
          "text": [
            "/usr/local/lib/python3.11/dist-packages/keras/src/models/functional.py:237: UserWarning: The structure of `inputs` doesn't match the expected structure.\n",
            "Expected: input_layer\n",
            "Received: inputs=('Tensor(shape=(None, 28, 28))',)\n",
            "  warnings.warn(msg)\n"
          ]
        }
      ]
    },
    {
      "cell_type": "code",
      "source": [
        "print(prediction)"
      ],
      "metadata": {
        "colab": {
          "base_uri": "https://localhost:8080/"
        },
        "id": "hLL0eei6vIp5",
        "outputId": "bc4d82d5-ab90-4cce-dab5-0a7a66c5bbcc"
      },
      "execution_count": null,
      "outputs": [
        {
          "output_type": "stream",
          "name": "stdout",
          "text": [
            "[[1.7275474e-06 3.7470269e-07 9.8115679e-06 ... 9.9872440e-01\n",
            "  2.9402916e-06 1.3294093e-05]\n",
            " [3.3515443e-07 1.9044338e-03 9.9806279e-01 ... 2.1864087e-10\n",
            "  5.8371973e-07 5.7236043e-12]\n",
            " [9.1284186e-08 9.9994212e-01 2.0210473e-05 ... 8.5085330e-06\n",
            "  1.8139770e-05 2.7194787e-07]\n",
            " ...\n",
            " [8.2248441e-08 1.7796714e-07 1.5457998e-07 ... 6.0832408e-05\n",
            "  1.3811188e-04 2.0201766e-04]\n",
            " [9.7740376e-06 3.6280548e-07 4.6801961e-07 ... 2.9602186e-06\n",
            "  4.2471574e-03 5.4630036e-08]\n",
            " [4.4000344e-06 7.3447291e-07 4.3989454e-07 ... 5.4291647e-09\n",
            "  1.1633013e-07 1.2764040e-09]]\n"
          ]
        }
      ]
    },
    {
      "cell_type": "code",
      "source": [
        "import numpy as np\n",
        "print(np.argmax(prediction[0]))"
      ],
      "metadata": {
        "colab": {
          "base_uri": "https://localhost:8080/"
        },
        "id": "m5KR98R7vqZU",
        "outputId": "1a82d98c-2bed-46f0-e2cb-3b7989e3b681"
      },
      "execution_count": null,
      "outputs": [
        {
          "output_type": "stream",
          "name": "stdout",
          "text": [
            "7\n"
          ]
        }
      ]
    },
    {
      "cell_type": "code",
      "source": [
        "plt.imshow(x_test[0])\n",
        "plt.show()"
      ],
      "metadata": {
        "colab": {
          "base_uri": "https://localhost:8080/",
          "height": 430
        },
        "id": "4uAaBNkfv0sZ",
        "outputId": "2e302f3f-67a7-469a-b1d1-59114747b4a3"
      },
      "execution_count": null,
      "outputs": [
        {
          "output_type": "display_data",
          "data": {
            "text/plain": [
              "<Figure size 640x480 with 1 Axes>"
            ],
            "image/png": "[encoded data removed]"
          },
          "metadata": {}
        }
      ]
    },
    {
      "cell_type": "code",
      "source": [],
      "metadata": {
        "id": "jLIbk5_-v8fX"
      },
      "execution_count": null,
      "outputs": []
    }
  ]
}